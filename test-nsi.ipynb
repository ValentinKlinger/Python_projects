{
 "cells": [
  {
   "cell_type": "code",
   "execution_count": 1,
   "id": "fba394e9",
   "metadata": {},
   "outputs": [
    {
     "data": {
      "text/plain": [
       "-3"
      ]
     },
     "execution_count": 1,
     "metadata": {},
     "output_type": "execute_result"
    }
   ],
   "source": [
    "4 - 7"
   ]
  },
  {
   "cell_type": "code",
   "execution_count": 2,
   "id": "55e410b6",
   "metadata": {},
   "outputs": [
    {
     "data": {
      "text/plain": [
       "30.4"
      ]
     },
     "execution_count": 2,
     "metadata": {},
     "output_type": "execute_result"
    }
   ],
   "source": [
    "(5.6 + 2) * 4"
   ]
  },
  {
   "cell_type": "code",
   "execution_count": 4,
   "id": "fca1c1e3",
   "metadata": {},
   "outputs": [
    {
     "data": {
      "text/plain": [
       "'coucoucoucoucoucoucoucoucoucoucoucoucoucou'"
      ]
     },
     "execution_count": 4,
     "metadata": {},
     "output_type": "execute_result"
    }
   ],
   "source": [
    "\"coucou\" * 7"
   ]
  },
  {
   "cell_type": "code",
   "execution_count": 6,
   "id": "62faeb89",
   "metadata": {},
   "outputs": [
    {
     "data": {
      "text/plain": [
       "True"
      ]
     },
     "execution_count": 6,
     "metadata": {},
     "output_type": "execute_result"
    }
   ],
   "source": [
    "5 > 4"
   ]
  },
  {
   "cell_type": "code",
   "execution_count": 8,
   "id": "8f6a96a5",
   "metadata": {},
   "outputs": [
    {
     "data": {
      "text/plain": [
       "True"
      ]
     },
     "execution_count": 8,
     "metadata": {},
     "output_type": "execute_result"
    }
   ],
   "source": [
    "5 == 5"
   ]
  },
  {
   "cell_type": "code",
   "execution_count": 10,
   "id": "dc12c5dc",
   "metadata": {},
   "outputs": [
    {
     "data": {
      "text/plain": [
       "bool"
      ]
     },
     "execution_count": 10,
     "metadata": {},
     "output_type": "execute_result"
    }
   ],
   "source": [
    "type(5 == 6)"
   ]
  },
  {
   "cell_type": "code",
   "execution_count": 12,
   "id": "c3838d05",
   "metadata": {},
   "outputs": [
    {
     "data": {
      "text/plain": [
       "type"
      ]
     },
     "execution_count": 12,
     "metadata": {},
     "output_type": "execute_result"
    }
   ],
   "source": [
    "type(type(5))"
   ]
  },
  {
   "cell_type": "code",
   "execution_count": 13,
   "id": "9a104f25",
   "metadata": {},
   "outputs": [
    {
     "data": {
      "text/plain": [
       "32"
      ]
     },
     "execution_count": 13,
     "metadata": {},
     "output_type": "execute_result"
    }
   ],
   "source": [
    "4 * 8"
   ]
  },
  {
   "cell_type": "code",
   "execution_count": 17,
   "id": "6337d52e",
   "metadata": {},
   "outputs": [
    {
     "data": {
      "text/plain": [
       "str"
      ]
     },
     "execution_count": 17,
     "metadata": {},
     "output_type": "execute_result"
    }
   ],
   "source": [
    "type('a')"
   ]
  },
  {
   "cell_type": "code",
   "execution_count": 20,
   "id": "42aa0c41",
   "metadata": {},
   "outputs": [
    {
     "data": {
      "text/plain": [
       "'miaou miaou wouf '"
      ]
     },
     "execution_count": 20,
     "metadata": {},
     "output_type": "execute_result"
    }
   ],
   "source": [
    "chien = \"wouf \"\n",
    "vache = \"meuh \"\n",
    "chat = 'miaou '\n",
    "a = 2 * chat + chien\n",
    "a"
   ]
  },
  {
   "cell_type": "code",
   "execution_count": 22,
   "id": "0e8cddc8",
   "metadata": {},
   "outputs": [
    {
     "data": {
      "text/plain": [
       "'miaou '"
      ]
     },
     "execution_count": 22,
     "metadata": {},
     "output_type": "execute_result"
    }
   ],
   "source": [
    "chat"
   ]
  },
  {
   "cell_type": "code",
   "execution_count": 24,
   "id": "d4621cfc",
   "metadata": {},
   "outputs": [],
   "source": [
    "b = chat + chien * 3 + vache"
   ]
  },
  {
   "cell_type": "code",
   "execution_count": 26,
   "id": "e7c9a14d",
   "metadata": {},
   "outputs": [
    {
     "data": {
      "text/plain": [
       "'miaou wouf wouf wouf meuh '"
      ]
     },
     "execution_count": 26,
     "metadata": {},
     "output_type": "execute_result"
    }
   ],
   "source": [
    "b"
   ]
  },
  {
   "cell_type": "code",
   "execution_count": 27,
   "id": "7b9bc8de",
   "metadata": {},
   "outputs": [
    {
     "name": "stdout",
     "output_type": "stream",
     "text": [
      "[0, 1, 2, 3, 4, 5, 6, 7, 8, 9, 10, 11, 12, 13, 14, 15, 16, 17, 18, 19, 20, 21, 22, 23, 24, 25, 26, 27, 28, 29, 30, 31, 32, 33, 34, 35, 36, 37, 38, 39, 40, 41, 42, 43, 44, 45, 46, 47, 48, 49, 50, 51, 52, 53, 54, 55, 56, 57, 58, 59, 60, 61, 62, 63, 64, 65, 66, 67, 68, 69, 70, 71, 72, 73, 74, 75, 76, 77, 78, 79, 80, 81, 82, 83, 84, 85, 86, 87, 88, 89, 90, 91, 92, 93, 94, 95, 96, 97, 98, 99, 100, 101, 102, 103, 104, 105, 106, 107, 108, 109, 110, 111, 112, 113, 114, 115, 116, 117, 118, 119, 120, 121, 122, 123, 124, 125, 126, 127, 128, 129, 130, 131, 132, 133, 134, 135, 136, 137, 138, 139, 140, 141, 142, 143, 144, 145, 146, 147, 148, 149, 150, 151, 152, 153, 154, 155, 156, 157, 158, 159, 160, 161, 162, 163, 164, 165, 166, 167, 168, 169, 170, 171, 172, 173, 174, 175, 176, 177, 178, 179, 180, 181, 182, 183, 184, 185, 186, 187, 188, 189, 190, 191, 192, 193, 194, 195, 196, 197, 198, 199, 200, 201, 202, 203, 204, 205, 206, 207, 208, 209, 210, 211, 212, 213, 214, 215, 216, 217, 218, 219, 220, 221, 222, 223, 224, 225, 226, 227, 228, 229, 230, 231, 232, 233, 234, 235, 236, 237, 238, 239, 240, 241, 242, 243, 244, 245, 246, 247, 248, 249, 250, 251, 252, 253, 254, 255, 256, 257, 258, 259, 260, 261, 262, 263, 264, 265, 266, 267, 268, 269, 270, 271, 272, 273, 274, 275, 276, 277, 278, 279, 280, 281, 282, 283, 284, 285, 286, 287, 288, 289, 290, 291, 292, 293, 294, 295, 296, 297, 298, 299, 300, 301, 302, 303, 304, 305, 306, 307, 308, 309, 310, 311, 312, 313, 314, 315, 316, 317, 318, 319, 320, 321, 322, 323, 324, 325, 326, 327, 328, 329, 330, 331, 332, 333, 334, 335, 336, 337, 338, 339, 340, 341, 342, 343, 344, 345, 346, 347, 348, 349, 350, 351, 352, 353, 354, 355, 356, 357, 358, 359, 360, 361, 362, 363, 364, 365, 366, 367, 368, 369, 370, 371, 372, 373, 374, 375, 376, 377, 378, 379, 380, 381, 382, 383, 384, 385, 386, 387, 388, 389, 390, 391, 392, 393, 394, 395, 396, 397, 398, 399, 400, 401, 402, 403, 404, 405, 406, 407, 408, 409, 410, 411, 412, 413, 414, 415, 416, 417, 418, 419, 420, 421, 422, 423, 424, 425, 426, 427, 428, 429, 430, 431, 432, 433, 434, 435, 436, 437, 438, 439, 440, 441, 442, 443, 444, 445, 446, 447, 448, 449, 450, 451, 452, 453, 454, 455, 456, 457, 458, 459, 460, 461, 462, 463, 464, 465, 466, 467, 468, 469, 470, 471, 472, 473, 474, 475, 476, 477, 478, 479, 480, 481, 482, 483, 484, 485, 486, 487, 488, 489, 490, 491, 492, 493, 494, 495, 496, 497, 498, 499]\n"
     ]
    }
   ],
   "source": [
    "list = [i for i in range(500)]\n",
    "print(list)"
   ]
  },
  {
   "cell_type": "code",
   "execution_count": 28,
   "id": "c38cdc14",
   "metadata": {},
   "outputs": [
    {
     "data": {
      "text/plain": [
       "1"
      ]
     },
     "execution_count": 28,
     "metadata": {},
     "output_type": "execute_result"
    }
   ],
   "source": [
    "5 // 4"
   ]
  },
  {
   "cell_type": "code",
   "execution_count": 29,
   "id": "108fef01",
   "metadata": {},
   "outputs": [
    {
     "data": {
      "text/plain": [
       "0"
      ]
     },
     "execution_count": 29,
     "metadata": {},
     "output_type": "execute_result"
    }
   ],
   "source": [
    "4 // 5"
   ]
  },
  {
   "cell_type": "code",
   "execution_count": 31,
   "id": "fc95c15b",
   "metadata": {},
   "outputs": [
    {
     "name": "stdout",
     "output_type": "stream",
     "text": [
      "le qotiant est de 9847 le reste est de 5\n"
     ]
    }
   ],
   "source": [
    "r = (41**3 + 13) % 7\n",
    "q = (41**3 + 13) // 7\n",
    "print('le qotiant est de', q, 'le reste est de', r)"
   ]
  },
  {
   "cell_type": "markdown",
   "id": "1261ffc4",
   "metadata": {},
   "source": [
    "<font color='red'>Où mon argument est le paramètre passé à la fonction et valeur \n",
    "On remarquera que les instruction de la fonction à executer sont reconnaissables par leur indentation.</font>"
   ]
  },
  {
   "cell_type": "code",
   "execution_count": 1,
   "id": "43ce3ce0",
   "metadata": {},
   "outputs": [
    {
     "data": {
      "text/plain": [
       "10"
      ]
     },
     "execution_count": 1,
     "metadata": {},
     "output_type": "execute_result"
    }
   ],
   "source": [
    "def double(n):\n",
    "    return 2 * n\n",
    "\n",
    "\n",
    "double(5)"
   ]
  },
  {
   "cell_type": "markdown",
   "id": "e373b05f",
   "metadata": {},
   "source": [
    "Très souvent on regroupe un grand nombre de fonction que l'on appelle des **bibliothèques** ou des **modules**. Un grands avantages de python est qu'il existe déjà un très grand nombre sur peu près tous les sujets. Par exemple on a besoin du module *math* pour la racine carrée."
   ]
  },
  {
   "cell_type": "code",
   "execution_count": 3,
   "id": "3af57db9",
   "metadata": {},
   "outputs": [
    {
     "data": {
      "text/plain": [
       "1.4142135623730951"
      ]
     },
     "execution_count": 3,
     "metadata": {},
     "output_type": "execute_result"
    }
   ],
   "source": [
    "import math\n",
    "\n",
    "math.sqrt(2)"
   ]
  },
  {
   "cell_type": "markdown",
   "id": "574b8e93",
   "metadata": {},
   "source": [
    "### Ou encore :"
   ]
  },
  {
   "cell_type": "code",
   "execution_count": 5,
   "id": "6ccfde3f",
   "metadata": {},
   "outputs": [
    {
     "data": {
      "text/plain": [
       "1.4142135623730951"
      ]
     },
     "execution_count": 5,
     "metadata": {},
     "output_type": "execute_result"
    }
   ],
   "source": [
    "from math import sqrt\n",
    "\n",
    "sqrt(2)"
   ]
  },
  {
   "cell_type": "markdown",
   "id": "75fe910e",
   "metadata": {},
   "source": [
    "### Ou encore"
   ]
  },
  {
   "cell_type": "code",
   "execution_count": 6,
   "id": "8ead2225",
   "metadata": {},
   "outputs": [
    {
     "data": {
      "text/plain": [
       "1.4142135623730951"
      ]
     },
     "execution_count": 6,
     "metadata": {},
     "output_type": "execute_result"
    }
   ],
   "source": [
    "import math as m\n",
    "\n",
    "m.sqrt(2)"
   ]
  },
  {
   "cell_type": "markdown",
   "id": "56050583",
   "metadata": {},
   "source": [
    "### On peut appeler la documentation de la fonction."
   ]
  },
  {
   "cell_type": "code",
   "execution_count": 7,
   "id": "39eae118",
   "metadata": {},
   "outputs": [
    {
     "name": "stdout",
     "output_type": "stream",
     "text": [
      "Help on built-in module math:\n",
      "\n",
      "NAME\n",
      "    math\n",
      "\n",
      "DESCRIPTION\n",
      "    This module provides access to the mathematical functions\n",
      "    defined by the C standard.\n",
      "\n",
      "FUNCTIONS\n",
      "    acos(x, /)\n",
      "        Return the arc cosine (measured in radians) of x.\n",
      "        \n",
      "        The result is between 0 and pi.\n",
      "    \n",
      "    acosh(x, /)\n",
      "        Return the inverse hyperbolic cosine of x.\n",
      "    \n",
      "    asin(x, /)\n",
      "        Return the arc sine (measured in radians) of x.\n",
      "        \n",
      "        The result is between -pi/2 and pi/2.\n",
      "    \n",
      "    asinh(x, /)\n",
      "        Return the inverse hyperbolic sine of x.\n",
      "    \n",
      "    atan(x, /)\n",
      "        Return the arc tangent (measured in radians) of x.\n",
      "        \n",
      "        The result is between -pi/2 and pi/2.\n",
      "    \n",
      "    atan2(y, x, /)\n",
      "        Return the arc tangent (measured in radians) of y/x.\n",
      "        \n",
      "        Unlike atan(y/x), the signs of both x and y are considered.\n",
      "    \n",
      "    atanh(x, /)\n",
      "        Return the inverse hyperbolic tangent of x.\n",
      "    \n",
      "    ceil(x, /)\n",
      "        Return the ceiling of x as an Integral.\n",
      "        \n",
      "        This is the smallest integer >= x.\n",
      "    \n",
      "    comb(n, k, /)\n",
      "        Number of ways to choose k items from n items without repetition and without order.\n",
      "        \n",
      "        Evaluates to n! / (k! * (n - k)!) when k <= n and evaluates\n",
      "        to zero when k > n.\n",
      "        \n",
      "        Also called the binomial coefficient because it is equivalent\n",
      "        to the coefficient of k-th term in polynomial expansion of the\n",
      "        expression (1 + x)**n.\n",
      "        \n",
      "        Raises TypeError if either of the arguments are not integers.\n",
      "        Raises ValueError if either of the arguments are negative.\n",
      "    \n",
      "    copysign(x, y, /)\n",
      "        Return a float with the magnitude (absolute value) of x but the sign of y.\n",
      "        \n",
      "        On platforms that support signed zeros, copysign(1.0, -0.0)\n",
      "        returns -1.0.\n",
      "    \n",
      "    cos(x, /)\n",
      "        Return the cosine of x (measured in radians).\n",
      "    \n",
      "    cosh(x, /)\n",
      "        Return the hyperbolic cosine of x.\n",
      "    \n",
      "    degrees(x, /)\n",
      "        Convert angle x from radians to degrees.\n",
      "    \n",
      "    dist(p, q, /)\n",
      "        Return the Euclidean distance between two points p and q.\n",
      "        \n",
      "        The points should be specified as sequences (or iterables) of\n",
      "        coordinates.  Both inputs must have the same dimension.\n",
      "        \n",
      "        Roughly equivalent to:\n",
      "            sqrt(sum((px - qx) ** 2.0 for px, qx in zip(p, q)))\n",
      "    \n",
      "    erf(x, /)\n",
      "        Error function at x.\n",
      "    \n",
      "    erfc(x, /)\n",
      "        Complementary error function at x.\n",
      "    \n",
      "    exp(x, /)\n",
      "        Return e raised to the power of x.\n",
      "    \n",
      "    expm1(x, /)\n",
      "        Return exp(x)-1.\n",
      "        \n",
      "        This function avoids the loss of precision involved in the direct evaluation of exp(x)-1 for small x.\n",
      "    \n",
      "    fabs(x, /)\n",
      "        Return the absolute value of the float x.\n",
      "    \n",
      "    factorial(x, /)\n",
      "        Find x!.\n",
      "        \n",
      "        Raise a ValueError if x is negative or non-integral.\n",
      "    \n",
      "    floor(x, /)\n",
      "        Return the floor of x as an Integral.\n",
      "        \n",
      "        This is the largest integer <= x.\n",
      "    \n",
      "    fmod(x, y, /)\n",
      "        Return fmod(x, y), according to platform C.\n",
      "        \n",
      "        x % y may differ.\n",
      "    \n",
      "    frexp(x, /)\n",
      "        Return the mantissa and exponent of x, as pair (m, e).\n",
      "        \n",
      "        m is a float and e is an int, such that x = m * 2.**e.\n",
      "        If x is 0, m and e are both 0.  Else 0.5 <= abs(m) < 1.0.\n",
      "    \n",
      "    fsum(seq, /)\n",
      "        Return an accurate floating point sum of values in the iterable seq.\n",
      "        \n",
      "        Assumes IEEE-754 floating point arithmetic.\n",
      "    \n",
      "    gamma(x, /)\n",
      "        Gamma function at x.\n",
      "    \n",
      "    gcd(*integers)\n",
      "        Greatest Common Divisor.\n",
      "    \n",
      "    hypot(...)\n",
      "        hypot(*coordinates) -> value\n",
      "        \n",
      "        Multidimensional Euclidean distance from the origin to a point.\n",
      "        \n",
      "        Roughly equivalent to:\n",
      "            sqrt(sum(x**2 for x in coordinates))\n",
      "        \n",
      "        For a two dimensional point (x, y), gives the hypotenuse\n",
      "        using the Pythagorean theorem:  sqrt(x*x + y*y).\n",
      "        \n",
      "        For example, the hypotenuse of a 3/4/5 right triangle is:\n",
      "        \n",
      "            >>> hypot(3.0, 4.0)\n",
      "            5.0\n",
      "    \n",
      "    isclose(a, b, *, rel_tol=1e-09, abs_tol=0.0)\n",
      "        Determine whether two floating point numbers are close in value.\n",
      "        \n",
      "          rel_tol\n",
      "            maximum difference for being considered \"close\", relative to the\n",
      "            magnitude of the input values\n",
      "          abs_tol\n",
      "            maximum difference for being considered \"close\", regardless of the\n",
      "            magnitude of the input values\n",
      "        \n",
      "        Return True if a is close in value to b, and False otherwise.\n",
      "        \n",
      "        For the values to be considered close, the difference between them\n",
      "        must be smaller than at least one of the tolerances.\n",
      "        \n",
      "        -inf, inf and NaN behave similarly to the IEEE 754 Standard.  That\n",
      "        is, NaN is not close to anything, even itself.  inf and -inf are\n",
      "        only close to themselves.\n",
      "    \n",
      "    isfinite(x, /)\n",
      "        Return True if x is neither an infinity nor a NaN, and False otherwise.\n",
      "    \n",
      "    isinf(x, /)\n",
      "        Return True if x is a positive or negative infinity, and False otherwise.\n",
      "    \n",
      "    isnan(x, /)\n",
      "        Return True if x is a NaN (not a number), and False otherwise.\n",
      "    \n",
      "    isqrt(n, /)\n",
      "        Return the integer part of the square root of the input.\n",
      "    \n",
      "    lcm(*integers)\n",
      "        Least Common Multiple.\n",
      "    \n",
      "    ldexp(x, i, /)\n",
      "        Return x * (2**i).\n",
      "        \n",
      "        This is essentially the inverse of frexp().\n",
      "    \n",
      "    lgamma(x, /)\n",
      "        Natural logarithm of absolute value of Gamma function at x.\n",
      "    \n",
      "    log(...)\n",
      "        log(x, [base=math.e])\n",
      "        Return the logarithm of x to the given base.\n",
      "        \n",
      "        If the base not specified, returns the natural logarithm (base e) of x.\n",
      "    \n",
      "    log10(x, /)\n",
      "        Return the base 10 logarithm of x.\n",
      "    \n",
      "    log1p(x, /)\n",
      "        Return the natural logarithm of 1+x (base e).\n",
      "        \n",
      "        The result is computed in a way which is accurate for x near zero.\n",
      "    \n",
      "    log2(x, /)\n",
      "        Return the base 2 logarithm of x.\n",
      "    \n",
      "    modf(x, /)\n",
      "        Return the fractional and integer parts of x.\n",
      "        \n",
      "        Both results carry the sign of x and are floats.\n",
      "    \n",
      "    nextafter(x, y, /)\n",
      "        Return the next floating-point value after x towards y.\n",
      "    \n",
      "    perm(n, k=None, /)\n",
      "        Number of ways to choose k items from n items without repetition and with order.\n",
      "        \n",
      "        Evaluates to n! / (n - k)! when k <= n and evaluates\n",
      "        to zero when k > n.\n",
      "        \n",
      "        If k is not specified or is None, then k defaults to n\n",
      "        and the function returns n!.\n",
      "        \n",
      "        Raises TypeError if either of the arguments are not integers.\n",
      "        Raises ValueError if either of the arguments are negative.\n",
      "    \n",
      "    pow(x, y, /)\n",
      "        Return x**y (x to the power of y).\n",
      "    \n",
      "    prod(iterable, /, *, start=1)\n",
      "        Calculate the product of all the elements in the input iterable.\n",
      "        \n",
      "        The default start value for the product is 1.\n",
      "        \n",
      "        When the iterable is empty, return the start value.  This function is\n",
      "        intended specifically for use with numeric values and may reject\n",
      "        non-numeric types.\n",
      "    \n",
      "    radians(x, /)\n",
      "        Convert angle x from degrees to radians.\n",
      "    \n",
      "    remainder(x, y, /)\n",
      "        Difference between x and the closest integer multiple of y.\n",
      "        \n",
      "        Return x - n*y where n*y is the closest integer multiple of y.\n",
      "        In the case where x is exactly halfway between two multiples of\n",
      "        y, the nearest even value of n is used. The result is always exact.\n",
      "    \n",
      "    sin(x, /)\n",
      "        Return the sine of x (measured in radians).\n",
      "    \n",
      "    sinh(x, /)\n",
      "        Return the hyperbolic sine of x.\n",
      "    \n",
      "    sqrt(x, /)\n",
      "        Return the square root of x.\n",
      "    \n",
      "    tan(x, /)\n",
      "        Return the tangent of x (measured in radians).\n",
      "    \n",
      "    tanh(x, /)\n",
      "        Return the hyperbolic tangent of x.\n",
      "    \n",
      "    trunc(x, /)\n",
      "        Truncates the Real x to the nearest Integral toward 0.\n",
      "        \n",
      "        Uses the __trunc__ magic method.\n",
      "    \n",
      "    ulp(x, /)\n",
      "        Return the value of the least significant bit of the float x.\n",
      "\n",
      "DATA\n",
      "    e = 2.718281828459045\n",
      "    inf = inf\n",
      "    nan = nan\n",
      "    pi = 3.141592653589793\n",
      "    tau = 6.283185307179586\n",
      "\n",
      "FILE\n",
      "    (built-in)\n",
      "\n",
      "\n"
     ]
    }
   ],
   "source": [
    "help(m)"
   ]
  },
  {
   "cell_type": "markdown",
   "id": "d399a659",
   "metadata": {},
   "source": [
    "<font color='blue'> ## 5. Boucle et instructions conditionnelles </font>\n",
    "\n",
    "On écrit sous la forme:"
   ]
  },
  {
   "cell_type": "code",
   "execution_count": 8,
   "id": "844004f8",
   "metadata": {},
   "outputs": [
    {
     "ename": "SyntaxError",
     "evalue": "invalid syntax (385943842.py, line 5)",
     "output_type": "error",
     "traceback": [
      "\u001b[0;36m  Input \u001b[0;32mIn [8]\u001b[0;36m\u001b[0m\n\u001b[0;31m    condition réalisée\u001b[0m\n\u001b[0m              ^\u001b[0m\n\u001b[0;31mSyntaxError\u001b[0m\u001b[0;31m:\u001b[0m invalid syntax\n"
     ]
    }
   ],
   "source": [
    "if condition:\n",
    "    instructions\n",
    "    exécutées\n",
    "    si \n",
    "    condition réalisée\n",
    "suite du programme"
   ]
  },
  {
   "cell_type": "markdown",
   "id": "063bafce",
   "metadata": {},
   "source": [
    "<font color='red'> On remarquera que les instrction à executer dans le cas où la \"condition\" est vraie, sont dans les ligne du bloc suivant les : </font>"
   ]
  },
  {
   "cell_type": "markdown",
   "id": "1fe9c70c",
   "metadata": {},
   "source": [
    "Créé un fonction qui affiche pair ou impair selon n"
   ]
  },
  {
   "cell_type": "code",
   "execution_count": 15,
   "id": "bd9c878e",
   "metadata": {},
   "outputs": [
    {
     "data": {
      "text/plain": [
       "False"
      ]
     },
     "execution_count": 15,
     "metadata": {},
     "output_type": "execute_result"
    }
   ],
   "source": [
    "def pair(n):\n",
    "    return n % 2 == 0\n",
    "pair(41)"
   ]
  },
  {
   "cell_type": "markdown",
   "id": "af1e6225",
   "metadata": {},
   "source": [
    "On peut aussi préciser de qu'il faut faire au cas où on veut gérer plusieurs alternatives.\n"
   ]
  },
  {
   "cell_type": "code",
   "execution_count": 16,
   "id": "b681649d",
   "metadata": {},
   "outputs": [
    {
     "ename": "NameError",
     "evalue": "name 'condition1' is not defined",
     "output_type": "error",
     "traceback": [
      "\u001b[0;31m---------------------------------------------------------------------------\u001b[0m",
      "\u001b[0;31mNameError\u001b[0m                                 Traceback (most recent call last)",
      "Input \u001b[0;32mIn [16]\u001b[0m, in \u001b[0;36m<cell line: 1>\u001b[0;34m()\u001b[0m\n\u001b[0;32m----> 1\u001b[0m \u001b[38;5;28;01mif\u001b[39;00m \u001b[43mcondition1\u001b[49m:\n\u001b[1;32m      2\u001b[0m     instructions\n\u001b[1;32m      3\u001b[0m \u001b[38;5;28;01melif\u001b[39;00m condition2:\n",
      "\u001b[0;31mNameError\u001b[0m: name 'condition1' is not defined"
     ]
    }
   ],
   "source": [
    "if condition1:\n",
    "    instructions\n",
    "elif condition2:\n",
    "    instructions\n",
    "elif condition3:\n",
    "    instructions\n",
    "    "
   ]
  },
  {
   "cell_type": "markdown",
   "id": "ed7cbc0c",
   "metadata": {},
   "source": [
    "**elif** correspond à un \"sinon si\".\n",
    "\n",
    "*exemple* :"
   ]
  },
  {
   "cell_type": "code",
   "execution_count": 21,
   "id": "560a4876",
   "metadata": {},
   "outputs": [
    {
     "data": {
      "text/plain": [
       "'pompiers'"
      ]
     },
     "execution_count": 21,
     "metadata": {},
     "output_type": "execute_result"
    }
   ],
   "source": [
    "def numero(n):\n",
    "    if n == 0:\n",
    "        return 'la tête à toto'\n",
    "    elif n == 17:\n",
    "        return 'police'\n",
    "    elif n == 15:\n",
    "        return 'SAMU'\n",
    "    elif n == 18:\n",
    "        return 'pompiers'\n",
    "    elif n == 119:\n",
    "        return \"Enfance maltraîtée\"\n",
    "    else:\n",
    "        return 'ne quittez pas...'\n",
    "    \n",
    "numero(18)"
   ]
  },
  {
   "cell_type": "markdown",
   "id": "c15230f6",
   "metadata": {},
   "source": [
    "ex6.1 page 117"
   ]
  },
  {
   "cell_type": "code",
   "execution_count": 34,
   "id": "a1b3b775",
   "metadata": {},
   "outputs": [
    {
     "data": {
      "text/plain": [
       "True"
      ]
     },
     "execution_count": 34,
     "metadata": {},
     "output_type": "execute_result"
    }
   ],
   "source": [
    "def est_nombre(n):\n",
    "    return type(n) == int or type(n) == float\n",
    "\n",
    "est_nombre(6.1)"
   ]
  },
  {
   "cell_type": "markdown",
   "id": "3060b470",
   "metadata": {},
   "source": [
    "ex6.3 page 117"
   ]
  },
  {
   "cell_type": "code",
   "execution_count": 50,
   "id": "3b719c18",
   "metadata": {
    "scrolled": true
   },
   "outputs": [
    {
     "name": "stdout",
     "output_type": "stream",
     "text": [
      "input a nuber pls\n"
     ]
    }
   ],
   "source": [
    "def ph(n):\n",
    "    try:\n",
    "        if n < 7:\n",
    "            return 'acide'\n",
    "        elif n > 7:\n",
    "            return 'basique'\n",
    "        elif n == 7:\n",
    "            return 'neutre'\n",
    "    except TypeError:\n",
    "        print('input a nuber pls')\n",
    "ph('a')"
   ]
  },
  {
   "cell_type": "markdown",
   "id": "bb8eb2a8",
   "metadata": {},
   "source": [
    "<font color='blue'> b. Boucle conditionnelles </font>\n",
    "\n",
    "**Principe:**\n",
    "\n",
    "**Tant que** condition est vrai:\n",
    "\n",
    "faire ceci"
   ]
  },
  {
   "cell_type": "code",
   "execution_count": 51,
   "id": "f361175c",
   "metadata": {},
   "outputs": [
    {
     "name": "stdout",
     "output_type": "stream",
     "text": [
      "10\n",
      "9\n",
      "8\n",
      "7\n",
      "6\n",
      "5\n",
      "4\n"
     ]
    }
   ],
   "source": [
    "a = 10\n",
    "while a > 3:\n",
    "    print(a)\n",
    "    a -= 1"
   ]
  },
  {
   "cell_type": "markdown",
   "id": "2ba3c660",
   "metadata": {},
   "source": [
    "On peut décider de sortir d'une boucle inopinement avec **break**"
   ]
  },
  {
   "cell_type": "code",
   "execution_count": 3,
   "id": "d426e799",
   "metadata": {},
   "outputs": [],
   "source": [
    "a=5\n",
    "while a == 4:\n",
    "    if a != 4:\n",
    "        break"
   ]
  },
  {
   "cell_type": "code",
   "execution_count": 7,
   "id": "33084222",
   "metadata": {},
   "outputs": [
    {
     "name": "stdout",
     "output_type": "stream",
     "text": [
      "6\n"
     ]
    }
   ],
   "source": [
    "def somme(n):\n",
    "    b = 0\n",
    "    for i in range(n + 1):\n",
    "        b += i\n",
    "    return b\n",
    "\n",
    "print(somme(3))"
   ]
  },
  {
   "cell_type": "code",
   "execution_count": 4,
   "id": "08e4ec67",
   "metadata": {},
   "outputs": [],
   "source": [
    "from math import sqrt\n",
    "def racine(n):\n",
    "    assert n >= 0\n",
    "    return sqrt(n)\n",
    "\n",
    "racine(8)"
   ]
  },
  {
   "cell_type": "code",
   "execution_count": 10,
   "id": "c45c2361",
   "metadata": {},
   "outputs": [],
   "source": [
    "def sommewhile(n):\n",
    "    s = 0\n",
    "    while n > 0:\n",
    "        s += n\n",
    "        n -= 1\n",
    "    return s"
   ]
  },
  {
   "cell_type": "markdown",
   "id": "f4d8804e",
   "metadata": {},
   "source": [
    "**<font color='blue'> C. Boucles non conditionnelles </font>**\n",
    "\n",
    "**Principe :**\n",
    "pour une variable qui prend toutes les valeurs suivantes :\n",
    "\n",
    "faire ceci \n",
    "\n",
    "En Python ce la donne par example "
   ]
  },
  {
   "cell_type": "code",
   "execution_count": 11,
   "id": "79623055",
   "metadata": {},
   "outputs": [
    {
     "name": "stdout",
     "output_type": "stream",
     "text": [
      "0-1-2-3-4-5-6-7-8-9-10-11-12-13-14-"
     ]
    }
   ],
   "source": [
    "for i in range(15):\n",
    "    print(i, end='-')"
   ]
  },
  {
   "cell_type": "markdown",
   "id": "40134ef8",
   "metadata": {},
   "source": [
    "Ou encore avec une liste arbitraire:"
   ]
  },
  {
   "cell_type": "code",
   "execution_count": 13,
   "id": "49f60be4",
   "metadata": {},
   "outputs": [
    {
     "name": "stdout",
     "output_type": "stream",
     "text": [
      "8\n",
      "14\n",
      "-12\n",
      "chatchat\n",
      "4.24\n"
     ]
    }
   ],
   "source": [
    "lst = [4, 7, -6, 'chat', 2.12]\n",
    "for i in lst:\n",
    "    print(i * 2)"
   ]
  },
  {
   "cell_type": "code",
   "execution_count": 16,
   "id": "835aa6bf",
   "metadata": {},
   "outputs": [
    {
     "name": "stdout",
     "output_type": "stream",
     "text": [
      "AZERTYUIOP"
     ]
    }
   ],
   "source": [
    "lst= 'azertyuiop'\n",
    "for i in lst:\n",
    "    print(i.upper(), end='')"
   ]
  },
  {
   "cell_type": "markdown",
   "id": "ccd03d60",
   "metadata": {},
   "source": [
    "On peut aussi les imbriquer"
   ]
  },
  {
   "cell_type": "code",
   "execution_count": 19,
   "id": "dfbdebd8",
   "metadata": {},
   "outputs": [
    {
     "name": "stdout",
     "output_type": "stream",
     "text": [
      "1 x 5 = 5\n",
      "1 x 6 = 6\n",
      "1 x 7 = 7\n",
      "1 x 8 = 8\n",
      "1 x 9 = 9\n",
      "1 x 10 = 10\n",
      "____________\n",
      "2 x 5 = 10\n",
      "2 x 6 = 12\n",
      "2 x 7 = 14\n",
      "2 x 8 = 16\n",
      "2 x 9 = 18\n",
      "2 x 10 = 20\n",
      "____________\n",
      "3 x 5 = 15\n",
      "3 x 6 = 18\n",
      "3 x 7 = 21\n",
      "3 x 8 = 24\n",
      "3 x 9 = 27\n",
      "3 x 10 = 30\n",
      "____________\n",
      "4 x 5 = 20\n",
      "4 x 6 = 24\n",
      "4 x 7 = 28\n",
      "4 x 8 = 32\n",
      "4 x 9 = 36\n",
      "4 x 10 = 40\n",
      "____________\n",
      "5 x 5 = 25\n",
      "5 x 6 = 30\n",
      "5 x 7 = 35\n",
      "5 x 8 = 40\n",
      "5 x 9 = 45\n",
      "5 x 10 = 50\n",
      "____________\n",
      "6 x 5 = 30\n",
      "6 x 6 = 36\n",
      "6 x 7 = 42\n",
      "6 x 8 = 48\n",
      "6 x 9 = 54\n",
      "6 x 10 = 60\n",
      "____________\n",
      "7 x 5 = 35\n",
      "7 x 6 = 42\n",
      "7 x 7 = 49\n",
      "7 x 8 = 56\n",
      "7 x 9 = 63\n",
      "7 x 10 = 70\n",
      "____________\n",
      "8 x 5 = 40\n",
      "8 x 6 = 48\n",
      "8 x 7 = 56\n",
      "8 x 8 = 64\n",
      "8 x 9 = 72\n",
      "8 x 10 = 80\n",
      "____________\n",
      "9 x 5 = 45\n",
      "9 x 6 = 54\n",
      "9 x 7 = 63\n",
      "9 x 8 = 72\n",
      "9 x 9 = 81\n",
      "9 x 10 = 90\n",
      "____________\n",
      "10 x 5 = 50\n",
      "10 x 6 = 60\n",
      "10 x 7 = 70\n",
      "10 x 8 = 80\n",
      "10 x 9 = 90\n",
      "10 x 10 = 100\n",
      "____________\n"
     ]
    }
   ],
   "source": [
    "for a in range(1, 11):\n",
    "    for b in range(5, 11):\n",
    "        print(a, 'x', b, '=', a * b)\n",
    "    print('____________')"
   ]
  },
  {
   "cell_type": "code",
   "execution_count": 25,
   "id": "7d8826db",
   "metadata": {},
   "outputs": [],
   "source": [
    "import turtle as t\n",
    "t.color = ('black', 'green')\n",
    "def carre(l):\n",
    "    for i in range(4):\n",
    "        t.forward(l * l)\n",
    "        t.right(90)\n",
    "    \n",
    "for a in range(0, 360, 10):\n",
    "    t.setheading(a)\n",
    "    t.pencolor(1-a/720, 1-a/360, a/360)\n",
    "    carre(10)\n",
    "t.exitonclick()"
   ]
  },
  {
   "cell_type": "markdown",
   "id": "080de865",
   "metadata": {},
   "source": [
    "## <font color='blue'>Exercices</font>"
   ]
  },
  {
   "cell_type": "code",
   "execution_count": 33,
   "id": "77a46e3f",
   "metadata": {},
   "outputs": [],
   "source": [
    "def aire_rectangle(longueur, largeur):\n",
    "    return longuer * largeur"
   ]
  },
  {
   "cell_type": "code",
   "execution_count": 34,
   "id": "be225084",
   "metadata": {},
   "outputs": [
    {
     "name": "stdout",
     "output_type": "stream",
     "text": [
      "ça fait 1 heures, 1 minutes, 4 secondes\n"
     ]
    }
   ],
   "source": [
    "def seconde_en_heure_minute(s):\n",
    "    h = s // 3600\n",
    "    s -= 3600 * h\n",
    "    m = s // 60\n",
    "    s -= 60 * m\n",
    "    return (f'ça fait {h} heures, {m} minutes, {s} secondes')\n",
    "\n",
    "print(seconde_en_heure_minute(3664))"
   ]
  },
  {
   "cell_type": "code",
   "execution_count": 41,
   "id": "d611107c",
   "metadata": {},
   "outputs": [
    {
     "data": {
      "text/plain": [
       "[681, 684, 687, 690, 693, 696, 699]"
      ]
     },
     "execution_count": 41,
     "metadata": {},
     "output_type": "execute_result"
    }
   ],
   "source": [
    "def multiples_de_3(debut=680, fin=700):\n",
    "    result = []\n",
    "    for nb in range(debut, fin + 1):\n",
    "        if nb % 3 == 0:\n",
    "            result.append(nb)\n",
    "    return result\n",
    "multiples_de_3()"
   ]
  },
  {
   "cell_type": "code",
   "execution_count": 56,
   "id": "ebd9fa51",
   "metadata": {},
   "outputs": [
    {
     "data": {
      "text/plain": [
       "True"
      ]
     },
     "execution_count": 56,
     "metadata": {},
     "output_type": "execute_result"
    }
   ],
   "source": [
    "def test_pythagore(a=5, b=4, c=3):\n",
    "    return a**2 + b**2 == c**2 or c**2 + b**2 == a**2 or c**2 + a**2 == b**2 == True\n",
    "\n",
    "\n",
    "test_pythagore()"
   ]
  },
  {
   "cell_type": "code",
   "execution_count": 2,
   "id": "8102098f",
   "metadata": {},
   "outputs": [
    {
     "data": {
      "text/plain": [
       "10416"
      ]
     },
     "execution_count": 2,
     "metadata": {},
     "output_type": "execute_result"
    }
   ],
   "source": [
    "def somme_square(n=31):\n",
    "    somme = 0\n",
    "    for i in range(1, n +1):\n",
    "        somme += i**2\n",
    "    return somme\n",
    "\n",
    "somme_square()"
   ]
  },
  {
   "cell_type": "markdown",
   "id": "70f92f37",
   "metadata": {},
   "source": [
    "code pretify\n",
    "black sur python"
   ]
  },
  {
   "cell_type": "code",
   "execution_count": 17,
   "id": "87b3fdea",
   "metadata": {},
   "outputs": [
    {
     "data": {
      "text/plain": [
       "True"
      ]
     },
     "execution_count": 17,
     "metadata": {},
     "output_type": "execute_result"
    }
   ],
   "source": [
    "def est_premier(n):\n",
    "    for i in range(2, n):\n",
    "        if n % i == 0:\n",
    "            return False\n",
    "    return n != 1\n",
    "\n",
    "\n",
    "est_premier(13)"
   ]
  },
  {
   "cell_type": "code",
   "execution_count": 27,
   "id": "89414e03",
   "metadata": {},
   "outputs": [
    {
     "name": "stdout",
     "output_type": "stream",
     "text": [
      "[3, 5, 7, 11, 13, 17, 19, 23, 29, 31, 37, 41, 43, 47, 53, 59, 61, 67, 71, 73, 79, 83, 89, 97, 101, 103, 107, 109, 113, 127, 131, 137, 139, 149, 151, 157, 163, 167, 173, 179, 181, 191, 193, 197, 199, 211, 223, 227, 229, 233, 239, 241, 251, 257, 263, 269, 271, 277, 281, 283, 293]\n"
     ]
    }
   ],
   "source": [
    "def first(n):\n",
    "    l = []\n",
    "    div = 0\n",
    "    for i in range(3, n + 1):\n",
    "        for j in range(2, i):\n",
    "            if i % j == 0:\n",
    "                div = 1\n",
    "        if div == 0:\n",
    "            l.append(i)\n",
    "        div = 0\n",
    "    return l\n",
    "\n",
    "\n",
    "print(first(300))"
   ]
  },
  {
   "cell_type": "code",
   "execution_count": 28,
   "id": "9774a749",
   "metadata": {},
   "outputs": [
    {
     "name": "stdout",
     "output_type": "stream",
     "text": [
      "1.06 ms ± 59.7 µs per loop (mean ± std. dev. of 7 runs, 1,000 loops each)\n"
     ]
    }
   ],
   "source": [
    "%timeit first(199)"
   ]
  },
  {
   "cell_type": "markdown",
   "id": "f5f68426",
   "metadata": {},
   "source": [
    "Using debuggers\n",
    "If you want to see how Python executes your program step-by-step then you should run it in \"nicer\" or \"faster\" debug-mode. You can also run it with Birdseye and explore the execution steps later.\n",
    "\"Nicer\" mode\n",
    "This mode is recommended for total beginners.\n",
    "Start by selecting Debug current script (nicer) from the Run menu or by pressing Ctrl+F5 (in XFCE you need to use Shift+Ctrl+F5). You'll see that first statement of the program gets highlighted and nothing more happens. In this mode you need to notify Thonny that you're ready to let Python make the next step. For this you have two main options:\n",
    "• Run → Step over (or F6) makes big steps, ie. it executes the highlighted code and highlights the next part of the code.\n",
    "• Run → Step into (or F7) tries to make smaller steps. If the highlighted code is made of smaller parts (statements or expressions), then first of these gets highlighted and Thonny waits for next command. If you have reached to a program component which doesn't have any sub-parts (eg. variable name) then Step into works like Step over, ie. executes (or evaluates) the code.\n",
    "\n",
    "If you have stepped into the depths of a statement or expression and want to move on faster, then you can use Run → Step out, which executes currently highlighted code and all following program parts on the same level. There is a bit similar command called Resume, which will run the command without stepping till it completes (or till next breakpoint, see below).\n",
    "If you accidentally made a big step and stepped over an interesting piece of code, you can take back the step by selecting Run → Step back. Thonny will show the state of program as it was before the last step. Now you can continue with small steps and zoom into this piece of code. (How does it work? Even when you take a big step, Thonny saves all intermediate program states, which it can replay after you take the step back.)\n",
    "If you want to reach a specific part of the code, then you can speed up the process by placing your cursor on that line and selecting Run → Run to cursor. This makes Thonny automatically step until this line. You can take the command from there.\n",
    "If you have editor line numbers enabled (Tools → Options → Editor), then you can also use breakpoints. When you double click next to a statement in the editor left margin, a dot appears. When you now start the debugger, it doesn't stop before first statement but runs to the statement marked with the dot a.k.a breakpoint. You can place as many breakpoints to your programs as required. Breakpoints can be removed by double clicking on the dots.\n",
    "\"Faster\" mode\n",
    "When your programs grow bigger, you may notice that taking big steps with nicer debugger take sometimes long time. It is because the niceties (eg. possibility of stepping through expression evaluation and taking back steps) require heavy and slow machinery.\n",
    "With Debug current script (faster) you lose the niceties but you can step through your program much faster. You can use same commands (except \"Step back\") as with nicer debugger. This is the debugging style most professional programmers are accustomed with.\n",
    "Different styles for showing the call stack\n",
    "By default Thonny uses stacked windows for presenting the call stack. This gives good intuition about the concept, but it may become cumbersome to use. Therefore, since version 3.0 one can choose between two different styles for presenting call stack. In “Tools → Options → Debugger” you can switch to more traditional style with a separate view for presenting and switching call frames. Note that both styles can be used with both debugging modes.\n",
    "Birdseye\n",
    "Command Debug current script (Birdseye) is explained at a separate page\n",
    "\n"
   ]
  },
  {
   "cell_type": "code",
   "execution_count": 32,
   "id": "de7df076",
   "metadata": {},
   "outputs": [
    {
     "name": "stdout",
     "output_type": "stream",
     "text": [
      "*\n",
      "**\n",
      "***\n",
      "****\n",
      "*****\n",
      "******\n",
      "*******\n",
      "********\n",
      "*********\n",
      "**********\n"
     ]
    }
   ],
   "source": [
    "def triangle(n=4):\n",
    "    for i in range(1, n + 1):\n",
    "        print('*' * i)\n",
    "\n",
    "\n",
    "triangle(10)"
   ]
  },
  {
   "cell_type": "code",
   "execution_count": 34,
   "id": "38aa2ab5",
   "metadata": {},
   "outputs": [
    {
     "name": "stdout",
     "output_type": "stream",
     "text": [
      "■ ■ ■ ■ ■ ■ \n",
      "■         ■ \n",
      "■         ■ \n",
      "■         ■ \n",
      "■         ■ \n",
      "■ ■ ■ ■ ■ ■ \n"
     ]
    }
   ],
   "source": [
    "def carre(n, motif=chr(0x25A0) + ' '):\n",
    "    print(motif*n)\n",
    "    for n_cote in range(n - 2):\n",
    "        print(motif+ '  '*(n-2) + motif)\n",
    "    print(motif*n)\n",
    "carre(6)"
   ]
  },
  {
   "cell_type": "code",
   "execution_count": 37,
   "id": "ce517ba3",
   "metadata": {},
   "outputs": [
    {
     "name": "stdout",
     "output_type": "stream",
     "text": [
      "       ■\n",
      "      ■■■\n",
      "     ■■■■■\n",
      "    ■■■■■■■\n",
      "   ■■■■■■■■■\n",
      "  ■■■■■■■■■■■\n",
      " ■■■■■■■■■■■■■\n",
      "■■■■■■■■■■■■■■■\n"
     ]
    }
   ],
   "source": [
    "def sapin(n,motif=chr(0x25A0)):\n",
    "    i = 1\n",
    "    while i <= n:\n",
    "        print((n - i)*' ' + motif*(i*2-1))\n",
    "        i = i + 1\n",
    "        \n",
    "        \n",
    "sapin(8)"
   ]
  },
  {
   "cell_type": "code",
   "execution_count": 60,
   "id": "fc393c24",
   "metadata": {},
   "outputs": [
    {
     "name": "stdout",
     "output_type": "stream",
     "text": [
      "   ▲\n",
      "  /*\\ \n",
      " /***\\ \n",
      "/*****\\ \n",
      "  | |\n",
      "▲\n",
      "| |\n",
      " ▲\n",
      "/*\\ \n",
      "| |\n",
      "  ▲\n",
      " /*\\ \n",
      "/***\\ \n",
      " | |\n"
     ]
    }
   ],
   "source": [
    "def sapin2(n,motif=chr(0x25A0)):\n",
    "    i = 2\n",
    "    print((n - 1)* ' ' + chr(0x25B2))\n",
    "    while i <= n:\n",
    "        print((n - i)*' ' + '/' + motif*(i*2-1-2) + '\\ ')\n",
    "        i = i + 1\n",
    "    print((n-2)*' ' + '| |')\n",
    "        \n",
    "sapin2(4, '*')\n",
    "sapin2(1, '*')\n",
    "sapin2(2, '*')\n",
    "sapin2(3, '*')"
   ]
  },
  {
   "cell_type": "code",
   "execution_count": 7,
   "id": "d670c3ed",
   "metadata": {},
   "outputs": [
    {
     "name": "stdout",
     "output_type": "stream",
     "text": [
      "                  🌟\n",
      "                  /*\\ \n",
      "                 /❄❄❄\\ \n",
      "                /*****\\ \n",
      "               /*******\\ \n",
      "              /*********\\ \n",
      "             /***********\\ \n",
      "            /🌟🌟🌟🌟🌟🌟🌟🌟🌟🌟🌟🌟🌟\\ \n",
      "           /🔔🔔🔔🔔🔔🔔🔔🔔🔔🔔🔔🔔🔔🔔🔔\\ \n",
      "          /*****************\\ \n",
      "         /*******************\\ \n",
      "        /*********************\\ \n",
      "       /***********************\\ \n",
      "      /🔔🔔🔔🔔🔔🔔🔔🔔🔔🔔🔔🔔🔔🔔🔔🔔🔔🔔🔔🔔🔔🔔🔔🔔🔔\\ \n",
      "     /🌟🌟🌟🌟🌟🌟🌟🌟🌟🌟🌟🌟🌟🌟🌟🌟🌟🌟🌟🌟🌟🌟🌟🌟🌟🌟🌟\\ \n",
      "    /❄❄❄❄❄❄❄❄❄❄❄❄❄❄❄❄❄❄❄❄❄❄❄❄❄❄❄❄❄\\ \n",
      "   /❄❄❄❄❄❄❄❄❄❄❄❄❄❄❄❄❄❄❄❄❄❄❄❄❄❄❄❄❄❄❄\\ \n",
      "  /*********************************\\ \n",
      " /***********************************\\ \n",
      "/*************************************\\ \n",
      "                  | |\n"
     ]
    }
   ],
   "source": [
    "from random import randint\n",
    "def next_item():\n",
    "    alea = randint(0, 100)\n",
    "    if alea <= 50:\n",
    "        return '*'\n",
    "    elif alea <= 70:\n",
    "        return chr(0x2744)\n",
    "    elif alea <= 80:\n",
    "        return chr(0x1F31F)\n",
    "    elif alea <= 100:\n",
    "        return chr(0x1F514)\n",
    "    \n",
    "def sapinjoli(n,motif=chr(0x25A0)):\n",
    "    i = 2\n",
    "    print((n - 2)* ' ' + chr(0x1F31F))\n",
    "    while i <= n:\n",
    "        print((n - i)*' ' + '/' + next_item()*(i*2-1-2) + '\\ ')\n",
    "        i = i + 1\n",
    "    print((n-2)*' ' + '| |')\n",
    "        \n",
    "sapinjoli(20, '*')"
   ]
  },
  {
   "cell_type": "code",
   "execution_count": 6,
   "id": "c8ff38b8",
   "metadata": {},
   "outputs": [
    {
     "ename": "NameError",
     "evalue": "name 'segracuse' is not defined",
     "output_type": "error",
     "traceback": [
      "\u001b[0;31m---------------------------------------------------------------------------\u001b[0m",
      "\u001b[0;31mNameError\u001b[0m                                 Traceback (most recent call last)",
      "Input \u001b[0;32mIn [6]\u001b[0m, in \u001b[0;36m<cell line: 10>\u001b[0;34m()\u001b[0m\n\u001b[1;32m      6\u001b[0m     \u001b[38;5;28;01melse\u001b[39;00m:\n\u001b[1;32m      7\u001b[0m         \u001b[38;5;28;01mreturn\u001b[39;00m segracuse((n \u001b[38;5;241m*\u001b[39m \u001b[38;5;241m3\u001b[39m) \u001b[38;5;241m+\u001b[39m \u001b[38;5;241m1\u001b[39m, iteration\u001b[38;5;241m.\u001b[39mappend(n \u001b[38;5;241m*\u001b[39m \u001b[38;5;241m2\u001b[39m \u001b[38;5;241m+\u001b[39m \u001b[38;5;241m1\u001b[39m))\n\u001b[0;32m---> 10\u001b[0m \u001b[43msegracuse\u001b[49m(\u001b[38;5;241m53\u001b[39m)\n",
      "\u001b[0;31mNameError\u001b[0m: name 'segracuse' is not defined"
     ]
    }
   ],
   "source": [
    "def syracuse(n, iteration=[]):\n",
    "    if n == 1:\n",
    "        return n, iteration\n",
    "    if n % 2 == 0:\n",
    "        return segracuse(int(n / 2), iteration.append(int(n / 2)))\n",
    "    else:\n",
    "        return segracuse((n * 3) + 1, iteration.append(n * 2 + 1))\n",
    "\n",
    "\n",
    "segracuse(53)"
   ]
  },
  {
   "cell_type": "markdown",
   "id": "5cc1553a",
   "metadata": {},
   "source": [
    "## 7. Complément sur les vriables : la portée \n",
    "\n",
    "Une variable peut être **globale** ou **locale** example\n"
   ]
  },
  {
   "cell_type": "code",
   "execution_count": 105,
   "id": "696ab150",
   "metadata": {},
   "outputs": [
    {
     "name": "stdout",
     "output_type": "stream",
     "text": [
      "24 25\n",
      "5\n"
     ]
    },
    {
     "ename": "NameError",
     "evalue": "name 'c' is not defined",
     "output_type": "error",
     "traceback": [
      "\u001b[0;31m---------------------------------------------------------------------------\u001b[0m",
      "\u001b[0;31mNameError\u001b[0m                                 Traceback (most recent call last)",
      "Input \u001b[0;32mIn [105]\u001b[0m, in \u001b[0;36m<cell line: 8>\u001b[0;34m()\u001b[0m\n\u001b[1;32m      6\u001b[0m double(\u001b[38;5;241m12\u001b[39m)\n\u001b[1;32m      7\u001b[0m \u001b[38;5;28mprint\u001b[39m(n)\n\u001b[0;32m----> 8\u001b[0m \u001b[38;5;28mprint\u001b[39m(\u001b[43mc\u001b[49m)\n",
      "\u001b[0;31mNameError\u001b[0m: name 'c' is not defined"
     ]
    }
   ],
   "source": [
    "n = 5 \n",
    "def double(n):\n",
    "    n = 2 * n\n",
    "    c = n + 1\n",
    "    print(n,c)\n",
    "double(12)\n",
    "print(n)\n",
    "print(c)"
   ]
  },
  {
   "cell_type": "markdown",
   "id": "b7535dcd",
   "metadata": {},
   "source": [
    "Les variables c et n utilisées dans la fonction sont des variables locales elles n'ont pas de valeur et d'existance que dans la fonction.\n",
    "En definissant une variable en dehors de toute fonction, on definit en tant que variable globale "
   ]
  },
  {
   "cell_type": "code",
   "execution_count": 106,
   "id": "816d0ba4",
   "metadata": {},
   "outputs": [
    {
     "name": "stdout",
     "output_type": "stream",
     "text": [
      "20\n",
      "40\n"
     ]
    }
   ],
   "source": [
    "n = 5 \n",
    "def bidon(k):\n",
    "    print(k *n)\n",
    "bidon(4)\n",
    "n =10\n",
    "bidon(4)"
   ]
  },
  {
   "cell_type": "markdown",
   "id": "c8cb42f8",
   "metadata": {},
   "source": [
    "attention au dessus, n n'est pas définie dans la fonction donc python en déduit qu'il s'aggit de la globale n"
   ]
  },
  {
   "cell_type": "code",
   "execution_count": 107,
   "id": "930ef931",
   "metadata": {},
   "outputs": [
    {
     "name": "stdout",
     "output_type": "stream",
     "text": [
      "20\n",
      "c 4\n",
      "50\n",
      "c 5\n",
      "10\n"
     ]
    }
   ],
   "source": [
    "c = 23\n",
    "n =5\n",
    "def bidon(k):\n",
    "    print(k*n)\n",
    "    global c\n",
    "    c=k\n",
    "bidon(4)\n",
    "print('c', c)\n",
    "n =10\n",
    "bidon(5)\n",
    "print('c', c)\n",
    "print(n)"
   ]
  },
  {
   "cell_type": "markdown",
   "id": "3b13a61f",
   "metadata": {},
   "source": [
    "Utiliser ou pire, modifier une variable **globale** dans une fonction c'est mal."
   ]
  },
  {
   "cell_type": "code",
   "execution_count": 5,
   "id": "6433aa85",
   "metadata": {},
   "outputs": [
    {
     "name": "stdout",
     "output_type": "stream",
     "text": [
      "[(1, 5), (2, 4), (3, 3), (4, 2), (5, 1)]\n"
     ]
    }
   ],
   "source": [
    "def combinaison_dées(n):\n",
    "    lst = []\n",
    "    for i in range(1, 6 + 1):\n",
    "        for j in range(1, 6 + 1):\n",
    "            if i + j == n:\n",
    "                lst.append((i, j))\n",
    "    return lst\n",
    "\n",
    "\n",
    "print(combinaison_dées(6))"
   ]
  },
  {
   "cell_type": "code",
   "execution_count": 4,
   "id": "81bdf784",
   "metadata": {},
   "outputs": [
    {
     "data": {
      "text/plain": [
       "True"
      ]
     },
     "execution_count": 4,
     "metadata": {},
     "output_type": "execute_result"
    }
   ],
   "source": [
    "def bissextile(a):\n",
    "    return a % 4 == 0 and (a % 100 != 0 or a % 400 == 0)\n",
    "\n",
    "\n",
    "bissextile(200)"
   ]
  },
  {
   "cell_type": "code",
   "execution_count": 18,
   "id": "9e58c03e",
   "metadata": {},
   "outputs": [
    {
     "name": "stdout",
     "output_type": "stream",
     "text": [
      "[(5, 6, 6), (6, 5, 6), (6, 6, 5)]\n"
     ]
    }
   ],
   "source": [
    "def combinaison_dées_3(n):\n",
    "    lst = []\n",
    "    for i in range(1, 6 + 1):\n",
    "        for j in range(1, 6 + 1):\n",
    "            for k in range(1, 6 + 1):\n",
    "                if i + j + k == n:\n",
    "                    lst.append((i, j, k))\n",
    "    return lst\n",
    "\n",
    "\n",
    "print(combinaison_dées_3(17))"
   ]
  },
  {
   "cell_type": "code",
   "execution_count": 48,
   "id": "d61deee6",
   "metadata": {},
   "outputs": [
    {
     "data": {
      "image/png": "[encoded data removed]",
      "text/plain": [
       "<Figure size 432x288 with 1 Axes>"
      ]
     },
     "metadata": {
      "needs_background": "light"
     },
     "output_type": "display_data"
    }
   ],
   "source": [
    "import numpy as np\n",
    "import matplotlib.pyplot as plt\n",
    "\n",
    "x = np.linspace(-10, 10, 200)\n",
    "plt.plot(x, np.sin(x))\n",
    "plt.ylabel('f(sin(x))')\n",
    "plt.xlabel('x')\n",
    "plt.show()"
   ]
  },
  {
   "cell_type": "code",
   "execution_count": 69,
   "id": "86d45a50",
   "metadata": {},
   "outputs": [
    {
     "name": "stdout",
     "output_type": "stream",
     "text": [
      "2\n",
      "None\n"
     ]
    }
   ],
   "source": [
    "from random import randint \n",
    "class Pfc:\n",
    "    def __init__(self, acction):\n",
    "        self.acction = acction\n",
    "    \n",
    "    \n",
    "def chifumi(n):\n",
    "    p1 = 0\n",
    "    p2 = 0\n",
    "    while n > 0:\n",
    "        choix1 = Pfc(randint(1, 3))\n",
    "        choix2 = Pfc(randint(1, 3)) \n",
    "        print(choix1.acction)\n",
    "        n -= 1\n",
    "        \n",
    "\n",
    "print(chifumi(1))"
   ]
  },
  {
   "cell_type": "code",
   "execution_count": null,
   "id": "0c614793",
   "metadata": {},
   "outputs": [],
   "source": [
    "def chifumi(n=3):\n",
    "    p1 = 0\n",
    "    p2 = 0\n",
    "    while n > 0:\n",
    "        choix1 = randint(1, 3)\n",
    "        choix2 = randint(1, 3)\n",
    "        if choix1 == 1 and choix2 == 3:\n",
    "            p1 += 1\n",
    "        elif choix1 == 1 and choix2 == 1:\n",
    "            n += 1\n",
    "        elif choix1 == 1 and choix2 == 2:\n",
    "            p2 += 1\n",
    "        elif choix1 == 2 and choix2 == 3:\n",
    "            p2 += 1\n",
    "        elif choix1 == 2 and choix2 == 1:\n",
    "            p1 += 1\n",
    "        elif choix1 == 2 and choix2 == 2:\n",
    "            n += 1\n",
    "        elif choix1 == 3 and choix2 == 3:\n",
    "            n += 1\n",
    "        elif choix1 == 3 and choix2 == 1:\n",
    "            p2 += 1\n",
    "        elif choix1 == 3 and choix2 == 2:\n",
    "            p1 += 1\n",
    "        n -= 1\n",
    "    return p1, p2"
   ]
  },
  {
   "cell_type": "code",
   "execution_count": null,
   "id": "ffa5c1c6",
   "metadata": {},
   "outputs": [],
   "source": []
  }
 ],
 "metadata": {
  "kernelspec": {
   "display_name": "Python 3 (ipykernel)",
   "language": "python",
   "name": "python3"
  },
  "language_info": {
   "codemirror_mode": {
    "name": "ipython",
    "version": 3
   },
   "file_extension": ".py",
   "mimetype": "text/x-python",
   "name": "python",
   "nbconvert_exporter": "python",
   "pygments_lexer": "ipython3",
   "version": "3.10.4"
  }
 },
 "nbformat": 4,
 "nbformat_minor": 5
}
